{
  "cells": [
    {
      "cell_type": "markdown",
      "metadata": {
        "id": "view-in-github",
        "colab_type": "text"
      },
      "source": [
        "<a href=\"https://colab.research.google.com/github/Bob2023A/Pruebas_ONP/blob/main/Por_favor_puedes_indicarme_paso_a_paso_que_hace_e_.ipynb\" target=\"_parent\"><img src=\"https://colab.research.google.com/assets/colab-badge.svg\" alt=\"Open In Colab\"/></a>"
      ]
    },
    {
      "cell_type": "markdown",
      "source": [
        "¡Claro! Vamos a desglosar paso a paso lo que hace este programa en Python, que está enfocado en realizar una regresión lineal multivariable utilizando el algoritmo de Descenso de Gradiente Estocástico (SGD) después de normalizar las características de los datos.\n",
        "\n",
        "**1. Importación de librerías:**"
      ],
      "metadata": {
        "id": "eeobsThqn3mp"
      }
    },
    {
      "cell_type": "code",
      "source": [
        "import numpy as np\n",
        "import matplotlib.pyplot as plt\n",
        "from sklearn.linear_model import SGDRegressor\n",
        "from sklearn.preprocessing import StandardScaler\n",
        "from lab_utils_multi import load_house_data\n",
        "from lab_utils_common import dlc"
      ],
      "outputs": [],
      "execution_count": null,
      "metadata": {
        "id": "l91bi3pKn3mq"
      }
    },
    {
      "cell_type": "markdown",
      "source": [
        "* `import numpy as np`: Importa la librería NumPy, fundamental para operaciones numéricas y manejo de arrays (arreglos multidimensionales). Se le asigna el alias `np` para facilitar su uso.\n",
        "* `import matplotlib.pyplot as plt`: Importa la librería Matplotlib, utilizada para la creación de gráficos y visualizaciones. Se le asigna el alias `plt`.\n",
        "* `from sklearn.linear_model import SGDRegressor`: Importa la clase `SGDRegressor` del módulo `linear_model` de la librería scikit-learn (sklearn). Esta clase implementa un modelo de regresión lineal que se entrena utilizando el Descenso de Gradiente Estocástico.\n",
        "* `from sklearn.preprocessing import StandardScaler`: Importa la clase `StandardScaler` del módulo `preprocessing` de sklearn. Esta clase se utiliza para estandarizar las características escalando cada una a una media de 0 y una desviación estándar de 1 (normalización Z-score).\n",
        "* `from lab_utils_multi import load_house_data`: Importa una función llamada `load_house_data` desde un módulo local llamado `lab_utils_multi`. Es probable que esta función se encargue de cargar un conjunto de datos relacionado con precios de casas.\n",
        "* `from lab_utils_common import dlc`: Importa una variable o módulo llamado `dlc` desde `lab_utils_common`. Por el uso posterior, parece contener definiciones de colores para los gráficos.\n",
        "\n",
        "**2. Configuración de NumPy y estilo de gráficos:**"
      ],
      "metadata": {
        "id": "ynn81OEon3mr"
      }
    },
    {
      "cell_type": "code",
      "source": [
        "np.set_printoptions(precision=2)\n",
        "plt.style.use('./deeplearning.mplstyle')"
      ],
      "outputs": [],
      "execution_count": null,
      "metadata": {
        "id": "xen9CAi3n3mr"
      }
    },
    {
      "cell_type": "markdown",
      "source": [
        "* `np.set_printoptions(precision=2)`: Configura la forma en que NumPy muestra los arrays al imprimirlos. En este caso, establece que los números de punto flotante se muestren con una precisión de 2 decimales. Esto facilita la lectura de los resultados.\n",
        "* `plt.style.use('./deeplearning.mplstyle')`: Aplica un estilo visual específico a los gráficos de Matplotlib utilizando un archivo de estilo llamado `deeplearning.mplstyle` que se encuentra en el mismo directorio. Esto asegura una apariencia consistente para las visualizaciones.\n",
        "\n",
        "**3. Carga de los datos:**"
      ],
      "metadata": {
        "id": "s3C_KeQQn3ms"
      }
    },
    {
      "cell_type": "code",
      "source": [
        "X_train, y_train = load_house_data()\n",
        "X_features = ['size(sqft)','bedrooms','floors','age']"
      ],
      "outputs": [],
      "execution_count": null,
      "metadata": {
        "id": "cWhGN_9Vn3ms"
      }
    },
    {
      "cell_type": "markdown",
      "source": [
        "* `X_train, y_train = load_house_data()`: Llama a la función `load_house_data()` para cargar el conjunto de datos. Es probable que esta función devuelva dos variables:\n",
        "    * `X_train`: Una matriz (o array NumPy) que contiene las características de entrenamiento de las casas (por ejemplo, tamaño, número de habitaciones, etc.).\n",
        "    * `y_train`: Un array NumPy que contiene los precios de venta correspondientes a las casas en `X_train`. Esta es la variable objetivo que queremos predecir.\n",
        "* `X_features = ['size(sqft)','bedrooms','floors','age']`: Define una lista de cadenas de texto que representan los nombres de las características en el conjunto de datos. Esto se utilizará para etiquetar los ejes de los gráficos.\n",
        "\n",
        "**4. Normalización de las características:**"
      ],
      "metadata": {
        "id": "DZjvVc3pn3ms"
      }
    },
    {
      "cell_type": "code",
      "source": [
        "scaler = StandardScaler()\n",
        "X_norm = scaler.fit_transform(X_train)\n",
        "print(f\"Peak to Peak range by column in Raw        X:{np.ptp(X_train,axis=0)}\")\n",
        "print(f\"Peak to Peak range by column in Normalized X:{np.ptp(X_norm,axis=0)}\")"
      ],
      "outputs": [],
      "execution_count": null,
      "metadata": {
        "id": "PmYXyO0Tn3mt"
      }
    },
    {
      "cell_type": "markdown",
      "source": [
        "* `scaler = StandardScaler()`: Crea una instancia del objeto `StandardScaler`. Este objeto se utilizará para realizar la normalización Z-score.\n",
        "* `X_norm = scaler.fit_transform(X_train)`: Realiza dos operaciones en una sola línea:\n",
        "    * `scaler.fit(X_train)`: Calcula la media y la desviación estándar de cada columna (característica) en el conjunto de datos de entrenamiento `X_train`. Estos valores se almacenan internamente en el objeto `scaler`.\n",
        "    * `scaler.transform(X_train)`: Aplica la normalización Z-score a cada valor en `X_train` utilizando la media y la desviación estándar calculadas en el paso anterior. La fórmula para la normalización Z-score es:\n",
        "        $$z = \\frac{x - \\mu}{\\sigma}$$\n",
        "        donde $x$ es el valor original, $\\mu$ es la media de la característica y $\\sigma$ es la desviación estándar de la característica. El resultado normalizado se guarda en `X_norm`.\n",
        "* `print(f\"Peak to Peak range by column in Raw        X:{np.ptp(X_train,axis=0)}\")`: Imprime el rango \"pico a pico\" (la diferencia entre el valor máximo y el valor mínimo) de cada columna en el conjunto de datos original `X_train`. Esto ayuda a visualizar la escala original de las características.\n",
        "* `print(f\"Peak to Peak range by column in Normalized X:{np.ptp(X_norm,axis=0)}\")`: Imprime el rango \"pico a pico\" de cada columna en el conjunto de datos normalizado `X_norm`. Después de la normalización Z-score, se esperaría que estos rangos sean más similares entre las diferentes características.\n",
        "\n",
        "**5. Entrenamiento del modelo de regresión lineal con SGD:**"
      ],
      "metadata": {
        "id": "5VZsceKen3mt"
      }
    },
    {
      "cell_type": "code",
      "source": [
        "sgdr = SGDRegressor(max_iter=1000)\n",
        "sgdr.fit(X_norm, y_train)\n",
        "print(sgdr)\n",
        "print(f\"number of iterations completed: {sgdr.n_iter_}, number of weight updates: {sgdr.t_}\")"
      ],
      "outputs": [],
      "execution_count": null,
      "metadata": {
        "id": "wEES1c6Hn3mt"
      }
    },
    {
      "cell_type": "markdown",
      "source": [
        "* `sgdr = SGDRegressor(max_iter=1000)`: Crea una instancia del modelo `SGDRegressor`. El parámetro `max_iter=1000` especifica el número máximo de épocas (pasos completos a través del conjunto de datos) que el algoritmo realizará durante el entrenamiento.\n",
        "* `sgdr.fit(X_norm, y_train)`: Entrena el modelo `SGDRegressor` utilizando los datos de entrenamiento normalizados `X_norm` como las características de entrada y los precios de las casas `y_train` como la variable objetivo. El algoritmo SGD ajustará los pesos (coeficientes) del modelo y el sesgo (intercepto) para minimizar el error entre las predicciones del modelo y los valores reales de `y_train`.\n",
        "* `print(sgdr)`: Imprime la representación del objeto `SGDRegressor`, mostrando los hiperparámetros utilizados durante el entrenamiento.\n",
        "* `print(f\"number of iterations completed: {sgdr.n_iter_}, number of weight updates: {sgdr.t_}\")`: Imprime el número real de iteraciones (épocas) que se completaron durante el entrenamiento (`sgdr.n_iter_`) y el número total de actualizaciones de los pesos (`sgdr.t_`). Estos valores pueden ser menores que `max_iter` si el algoritmo converge temprano.\n",
        "\n",
        "**6. Obtención de los parámetros del modelo aprendido:**"
      ],
      "metadata": {
        "id": "QgGZkDjIn3mu"
      }
    },
    {
      "cell_type": "code",
      "source": [
        "b_norm = sgdr.intercept_\n",
        "w_norm = sgdr.coef_\n",
        "print(f\"model parameters:                    w: {w_norm}, b:{b_norm}\")\n",
        "print( \"model parameters from previous lab: w: [110.56 -21.27 -32.71 -37.97], b: 363.16\")\n",
        "\n",
        "b_norm = sgdr.intercept_\n",
        "w_norm = sgdr.coef_\n",
        "print(f\"model parameters:                    w: {w_norm}, b:{b_norm}\")\n",
        "print( \"model parameters from previous lab: w: [110.56 -21.27 -32.71 -37.97], b: 363.16\")"
      ],
      "outputs": [],
      "execution_count": null,
      "metadata": {
        "id": "28SvmVr2n3mu"
      }
    },
    {
      "cell_type": "markdown",
      "source": [
        "* `b_norm = sgdr.intercept_`: Obtiene el valor del sesgo (intercepto) aprendido por el modelo `SGDRegressor`. En un modelo lineal multivariable, el sesgo es el término constante.\n",
        "* `w_norm = sgdr.coef_`: Obtiene los pesos (coeficientes) aprendidos por el modelo para cada una de las características normalizadas en `X_norm`. El array `w_norm` tendrá una longitud igual al número de características.\n",
        "* Las líneas `print(...)` muestran los parámetros aprendidos (pesos `w_norm` y sesgo `b_norm`) y los compara con los parámetros de un \"laboratorio anterior\". Esto sugiere que este código podría ser parte de una serie de ejercicios o lecciones donde se espera obtener resultados similares.\n",
        "\n",
        "**7. Visualización de las predicciones vs. los valores reales:**"
      ],
      "metadata": {
        "id": "t6Njad9sn3mu"
      }
    },
    {
      "cell_type": "code",
      "source": [
        "# plot predictions and targets vs original features\n",
        "fig,ax=plt.subplots(1,4,figsize=(12,3),sharey=True)\n",
        "for i in range(len(ax)):\n",
        "    ax[i].scatter(X_train[:,i],y_train, label = 'target')\n",
        "    ax[i].set_xlabel(X_features[i])\n",
        "    # ¡ERROR! La variable y_pred no está definida en este punto.\n",
        "    ax[i].scatter(X_train[:,i],y_pred,color=dlc[\"dlorange\"], label = 'predict')\n",
        "ax[0].set_ylabel(\"Price\"); ax[0].legend();\n",
        "fig.suptitle(\"target versus prediction using z-score normalized model\")\n",
        "plt.show()"
      ],
      "outputs": [],
      "execution_count": null,
      "metadata": {
        "id": "JiB4oAmZn3mu"
      }
    },
    {
      "cell_type": "markdown",
      "source": [
        "* `fig,ax=plt.subplots(1,4,figsize=(12,3),sharey=True)`: Crea una figura (`fig`) y un array de 4 subgráficos (`ax`) dispuestos en una fila y cuatro columnas. `figsize` controla el tamaño de la figura, y `sharey=True` hace que todos los subgráficos compartan el mismo eje y.\n",
        "* `for i in range(len(ax))`: Itera a través de cada uno de los cuatro subgráficos.\n",
        "* `ax[i].scatter(X_train[:,i],y_train, label = 'target')`: En cada subgráfico `i`, dibuja un diagrama de dispersión de los valores de la i-ésima característica original (`X_train[:,i]`) contra los valores objetivo correspondientes (`y_train`). Los puntos se etiquetan como 'target'.\n",
        "* `ax[i].set_xlabel(X_features[i])`: Establece la etiqueta del eje x del subgráfico `i` con el nombre de la i-ésima característica.\n",
        "* `ax[i].scatter(X_train[:,i],y_pred,color=dlc[\"dlorange\"], label = 'predict')`: **Aquí hay un error potencial.** La variable `y_pred` (que debería contener las predicciones del modelo) no ha sido calculada en el código anterior. Para que esta línea funcione correctamente, primero se debería hacer una predicción utilizando el modelo entrenado (`sgdr`) con los datos de entrenamiento normalizados (`X_norm`). Por ejemplo: `y_pred = sgdr.predict(X_norm)`. Asumiendo que `dlc[\"dlorange\"]` proporciona un color, esta línea intentaría dibujar un diagrama de dispersión de la i-ésima característica original contra las predicciones del modelo, con el color especificado y la etiqueta 'predict'.\n",
        "* `ax[0].set_ylabel(\"Price\"); ax[0].legend()`: Establece la etiqueta del eje y del primer subgráfico como \"Price\" y muestra la leyenda para identificar los puntos 'target' y 'predict'.\n",
        "* `fig.suptitle(\"target versus prediction using z-score normalized model\")`: Establece el título principal de la figura.\n",
        "* `plt.show()`: Muestra la figura con los cuatro subgráficos.\n",
        "\n",
        "**En resumen, este programa realiza los siguientes pasos:**\n",
        "\n",
        "1.  Carga un conjunto de datos de precios de casas.\n",
        "2.  Normaliza las características de este conjunto de datos utilizando la normalización Z-score.\n",
        "3.  Entrena un modelo de regresión lineal utilizando el algoritmo de Descenso de Gradiente Estocástico con las características normalizadas y los precios de las casas.\n",
        "4.  Imprime los parámetros aprendidos del modelo (pesos y sesgo).\n",
        "5.  Intenta visualizar las predicciones del modelo en comparación con los valores reales para cada una de las características originales (aunque hay un error potencial ya que las predicciones no se calculan explícitamente antes de la visualización)."
      ],
      "metadata": {
        "id": "F8RNKzs2n3mu"
      }
    },
    {
      "cell_type": "markdown",
      "source": [
        "<div class=\"md-recitation\">\n",
        "  Sources\n",
        "  <ol>\n",
        "  <li><a href=\"https://es.statisticseasily.com/glossario/what-is-value-normalization-data-science/\">https://es.statisticseasily.com/glossario/what-is-value-normalization-data-science/</a></li>\n",
        "  </ol>\n",
        "</div>"
      ],
      "metadata": {
        "id": "Sa0hHS28n3mv"
      }
    }
  ],
  "metadata": {
    "colab": {
      "provenance": [],
      "include_colab_link": true
    },
    "kernelspec": {
      "display_name": "Python 3",
      "name": "python3"
    }
  },
  "nbformat": 4,
  "nbformat_minor": 0
}